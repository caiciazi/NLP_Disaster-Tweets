{
 "cells": [
  {
   "cell_type": "code",
   "execution_count": 1,
   "id": "b930459a",
   "metadata": {},
   "outputs": [],
   "source": [
    "import tensorflow as tf\n",
    "import pandas as pd"
   ]
  },
  {
   "cell_type": "markdown",
   "id": "f264badf",
   "metadata": {},
   "source": [
    "导入数据"
   ]
  },
  {
   "cell_type": "code",
   "execution_count": 2,
   "id": "fd7034c1",
   "metadata": {},
   "outputs": [],
   "source": [
    "data_txt_train = pd.read_csv(r'.\\data\\train.csv')\n",
    "data_txt_test = pd.read_csv(r'.\\data\\test.csv')\n",
    "data_txt_labels = pd.read_csv(r'.\\data\\sample_submission.csv')"
   ]
  },
  {
   "cell_type": "markdown",
   "id": "ec76c59e",
   "metadata": {},
   "source": [
    "从数据中挑出那些有用的数据，这里为了简单起见，我们只考虑text和target。"
   ]
  },
  {
   "cell_type": "code",
   "execution_count": 3,
   "id": "73b4bc7c",
   "metadata": {},
   "outputs": [],
   "source": [
    "x_train = data_txt_train['text']\n",
    "y_train = data_txt_train['target']\n",
    "x_test = data_txt_test['text']\n",
    "y_test = data_txt_labels['target']"
   ]
  },
  {
   "cell_type": "markdown",
   "id": "b6da06a0",
   "metadata": {},
   "source": [
    "因为之后要做tokenize（词元化），将词与index对应起来，得到一个{word：index}的字典\n",
    "所以我们需要将train_data和test_data拼接起来"
   ]
  },
  {
   "cell_type": "code",
   "execution_count": 4,
   "id": "28efcd87",
   "metadata": {},
   "outputs": [
    {
     "name": "stdout",
     "output_type": "stream",
     "text": [
      "(7613, 2) (3263, 2) (10876, 2)\n"
     ]
    }
   ],
   "source": [
    "train_data = pd.concat([x_train, y_train], axis=1)\n",
    "test_data = pd.concat([x_test, y_test], axis=1)\n",
    "data = pd.concat([train_data, test_data])\n",
    "print(train_data.shape, test_data.shape, data.shape)"
   ]
  },
  {
   "cell_type": "markdown",
   "id": "a7dc3c5e",
   "metadata": {},
   "source": [
    "# 词元化"
   ]
  },
  {
   "cell_type": "markdown",
   "id": "365d1e33",
   "metadata": {},
   "source": [
    "设置字典的大小，每个样本的最大单词"
   ]
  },
  {
   "cell_type": "code",
   "execution_count": 5,
   "id": "cb8aff32",
   "metadata": {},
   "outputs": [],
   "source": [
    "max_words = 10000\n",
    "sen_words_max_len = 100"
   ]
  },
  {
   "cell_type": "markdown",
   "id": "b7f2c116",
   "metadata": {},
   "source": [
    "掉用tf.keras.preprocessing.text.Tokenizer"
   ]
  },
  {
   "cell_type": "code",
   "execution_count": 6,
   "id": "cb340d2a",
   "metadata": {},
   "outputs": [],
   "source": [
    "tokenizer = tf.keras.preprocessing.text.Tokenizer(num_words=max_words)"
   ]
  },
  {
   "cell_type": "code",
   "execution_count": 7,
   "id": "e7e1051b",
   "metadata": {},
   "outputs": [],
   "source": [
    "tokenizer.fit_on_texts(data.iloc[:,0])\n",
    "words_indexes = tokenizer.word_index"
   ]
  },
  {
   "cell_type": "code",
   "execution_count": 8,
   "id": "03aee4a9",
   "metadata": {},
   "outputs": [
    {
     "data": {
      "text/plain": [
       "29319"
      ]
     },
     "execution_count": 8,
     "metadata": {},
     "output_type": "execute_result"
    }
   ],
   "source": [
    "len(words_indexes)"
   ]
  },
  {
   "cell_type": "code",
   "execution_count": 9,
   "id": "8daa7caa",
   "metadata": {},
   "outputs": [],
   "source": [
    "sequence = tokenizer.texts_to_sequences(data.iloc[:,0])"
   ]
  },
  {
   "cell_type": "markdown",
   "id": "6faaf3f3",
   "metadata": {},
   "source": [
    "sequence就是RaggedTensor（稀疏张量）,再调用tf.keras.preprocessing.sequence.pad_sequences命令将其填充成正常的Tensor"
   ]
  },
  {
   "cell_type": "code",
   "execution_count": 10,
   "id": "df659850",
   "metadata": {},
   "outputs": [],
   "source": [
    "data_pad = tf.keras.preprocessing.sequence.pad_sequences(sequence,maxlen=sen_words_max_len)"
   ]
  },
  {
   "cell_type": "code",
   "execution_count": 11,
   "id": "ccaef895",
   "metadata": {},
   "outputs": [],
   "source": [
    "x = tf.convert_to_tensor(data_pad)\n",
    "y = tf.convert_to_tensor(data.iloc[:,1].values)"
   ]
  },
  {
   "cell_type": "code",
   "execution_count": 12,
   "id": "4a094b1e",
   "metadata": {
    "scrolled": false
   },
   "outputs": [
    {
     "data": {
      "text/plain": [
       "10876"
      ]
     },
     "execution_count": 12,
     "metadata": {},
     "output_type": "execute_result"
    }
   ],
   "source": [
    "lenth = len(data.iloc[:,0])\n",
    "lenth"
   ]
  },
  {
   "cell_type": "markdown",
   "id": "3a5503e9",
   "metadata": {},
   "source": [
    "再将合并起来的数据，拆成训练数据与验证数据"
   ]
  },
  {
   "cell_type": "code",
   "execution_count": 13,
   "id": "f44ddf59",
   "metadata": {},
   "outputs": [],
   "source": [
    "index = tf.range(lenth)\n",
    "index = tf.random.shuffle(index)\n",
    "x_train = tf.gather(x, index[:7000])\n",
    "y_train = tf.gather(y, index[:7000])\n",
    "x_test = tf.gather(x, index[7000:])\n",
    "y_test = tf.gather(y, index[7000:])"
   ]
  },
  {
   "cell_type": "markdown",
   "id": "2afa2bf6",
   "metadata": {},
   "source": [
    "# 数据集"
   ]
  },
  {
   "cell_type": "markdown",
   "id": "778e211c",
   "metadata": {},
   "source": [
    "再将数据打包成数据集"
   ]
  },
  {
   "cell_type": "code",
   "execution_count": 14,
   "id": "2ad21a7b",
   "metadata": {},
   "outputs": [
    {
     "name": "stdout",
     "output_type": "stream",
     "text": [
      "<TensorSliceDataset shapes: ((100,), ()), types: (tf.int32, tf.int64)> <TensorSliceDataset shapes: ((100,), ()), types: (tf.int32, tf.int64)>\n"
     ]
    }
   ],
   "source": [
    "ds_train = tf.data.Dataset.from_tensor_slices((x_train, y_train))\n",
    "ds_test = tf.data.Dataset.from_tensor_slices((x_test, y_test))\n",
    "print(ds_train, ds_test)"
   ]
  },
  {
   "cell_type": "markdown",
   "id": "511986ff",
   "metadata": {},
   "source": [
    "写一个预处理函数，用来把数据转换到int32"
   ]
  },
  {
   "cell_type": "code",
   "execution_count": 15,
   "id": "1b66e0ae",
   "metadata": {},
   "outputs": [],
   "source": [
    "def preprocessing(x, y):\n",
    "    x = tf.cast(x, dtype=tf.int32)\n",
    "    y = tf.cast(y, dtype=tf.int32)\n",
    "    return x, y"
   ]
  },
  {
   "cell_type": "markdown",
   "id": "b29aa063",
   "metadata": {},
   "source": [
    "把数据按预处理函数map一下，在取batch。这个.prefetch(tf.data.experimental.AUTOTUNE)，是看看能不能用几张卡来并行跑模型"
   ]
  },
  {
   "cell_type": "code",
   "execution_count": 16,
   "id": "f40a094f",
   "metadata": {},
   "outputs": [
    {
     "name": "stdout",
     "output_type": "stream",
     "text": [
      "<PrefetchDataset shapes: ((128, 100), (128,)), types: (tf.int32, tf.int32)> <PrefetchDataset shapes: ((128, 100), (128,)), types: (tf.int32, tf.int32)>\n"
     ]
    }
   ],
   "source": [
    "batch_size = 128\n",
    "ds_train = ds_train.map(preprocessing).batch(batch_size, drop_remainder=True).prefetch(tf.data.experimental.AUTOTUNE)\n",
    "ds_test = ds_test.map(preprocessing).batch(batch_size, drop_remainder=True).prefetch(tf.data.experimental.AUTOTUNE)\n",
    "print(ds_train, ds_test)"
   ]
  },
  {
   "cell_type": "markdown",
   "id": "c0d20c67",
   "metadata": {},
   "source": [
    "# 定义模型"
   ]
  },
  {
   "cell_type": "markdown",
   "id": "86634f8e",
   "metadata": {},
   "source": [
    "写一个简单的RNN，这里使用他的cell，所以需要在[b, t, v]中的dim = 1也就是时间步t上展开，使用for遍历"
   ]
  },
  {
   "cell_type": "code",
   "execution_count": 17,
   "id": "48705e7f",
   "metadata": {},
   "outputs": [],
   "source": [
    "class Net(tf.keras.Model):\n",
    "    def __init__(self,input_dim=max_words, output_dim=16,\n",
    "                 input_length=sen_words_max_len, units=64):\n",
    "        super(Net, self).__init__()\n",
    "        self.state0 = tf.zeros([batch_size, units])\n",
    "        self.embedding = tf.keras.layers.Embedding(input_dim, output_dim,\n",
    "                                                   input_length=input_length)\n",
    "        self.rnn_cell0 = tf.keras.layers.SimpleRNNCell(units, dropout=0.8)\n",
    "        self.fc = tf.keras.layers.Dense(1)\n",
    "    \n",
    "    def call(self, inputs, training=None):\n",
    "        \"\"\"\n",
    "        net(x)&net(x, training=True) is training mode\n",
    "        \"\"\"\n",
    "        x = self.embedding(inputs)\n",
    "        state0 = self.state0\n",
    "        for word in tf.unstack(x, axis=1):\n",
    "            out, state1 = self.rnn_cell0(word, state0)\n",
    "            state0 = state1\n",
    "        logit = self.fc(out)\n",
    "        prob = tf.sigmoid(logit)\n",
    "        return logit\n",
    "            \n",
    "        "
   ]
  },
  {
   "cell_type": "markdown",
   "id": "474ffe41",
   "metadata": {},
   "source": [
    "# 编辑模型并训练"
   ]
  },
  {
   "cell_type": "code",
   "execution_count": 19,
   "id": "21d439f4",
   "metadata": {},
   "outputs": [
    {
     "name": "stdout",
     "output_type": "stream",
     "text": [
      "Epoch 1/50\n",
      "54/54 [==============================] - 2s 29ms/step - loss: 1.6507 - accuracy: 0.6852 - val_loss: 0.6310 - val_accuracy: 0.6852\n",
      "Epoch 2/50\n",
      "54/54 [==============================] - 1s 13ms/step - loss: 0.9679 - accuracy: 0.6373 - val_loss: 0.6277 - val_accuracy: 0.6883\n",
      "Epoch 3/50\n",
      "54/54 [==============================] - 1s 13ms/step - loss: 0.8487 - accuracy: 0.6701 - val_loss: 0.6221 - val_accuracy: 0.6945\n",
      "Epoch 4/50\n",
      "54/54 [==============================] - 1s 13ms/step - loss: 0.6905 - accuracy: 0.6597 - val_loss: 0.6178 - val_accuracy: 0.6945\n",
      "Epoch 5/50\n",
      "54/54 [==============================] - 1s 12ms/step - loss: 0.6604 - accuracy: 0.6729 - val_loss: 0.6141 - val_accuracy: 0.6961\n",
      "Epoch 6/50\n",
      "54/54 [==============================] - 1s 13ms/step - loss: 0.6362 - accuracy: 0.6816 - val_loss: 0.6106 - val_accuracy: 0.6961\n",
      "Epoch 7/50\n",
      "54/54 [==============================] - 1s 13ms/step - loss: 0.6349 - accuracy: 0.6913 - val_loss: 0.6085 - val_accuracy: 0.6961\n",
      "Epoch 8/50\n",
      "54/54 [==============================] - 1s 13ms/step - loss: 0.6220 - accuracy: 0.6929 - val_loss: 0.6076 - val_accuracy: 0.6961\n",
      "Epoch 9/50\n",
      "54/54 [==============================] - 1s 13ms/step - loss: 0.6189 - accuracy: 0.6934 - val_loss: 0.6074 - val_accuracy: 0.6961\n",
      "Epoch 10/50\n",
      "54/54 [==============================] - 1s 13ms/step - loss: 0.6082 - accuracy: 0.6969 - val_loss: 0.6054 - val_accuracy: 0.6961\n",
      "Epoch 11/50\n",
      "54/54 [==============================] - 1s 13ms/step - loss: 0.6050 - accuracy: 0.7025 - val_loss: 0.6046 - val_accuracy: 0.6961\n",
      "Epoch 12/50\n",
      "54/54 [==============================] - 1s 13ms/step - loss: 0.6031 - accuracy: 0.7017 - val_loss: 0.6037 - val_accuracy: 0.6961\n",
      "Epoch 13/50\n",
      "54/54 [==============================] - 1s 13ms/step - loss: 0.5966 - accuracy: 0.7024 - val_loss: 0.6031 - val_accuracy: 0.6961\n",
      "Epoch 14/50\n",
      "54/54 [==============================] - 1s 13ms/step - loss: 0.6028 - accuracy: 0.7023 - val_loss: 0.6025 - val_accuracy: 0.6961\n",
      "Epoch 15/50\n",
      "54/54 [==============================] - 1s 13ms/step - loss: 0.6012 - accuracy: 0.7025 - val_loss: 0.6018 - val_accuracy: 0.6961\n",
      "Epoch 16/50\n",
      "54/54 [==============================] - 1s 13ms/step - loss: 0.5907 - accuracy: 0.7025 - val_loss: 0.6011 - val_accuracy: 0.6961\n",
      "Epoch 17/50\n",
      "54/54 [==============================] - 1s 13ms/step - loss: 0.5917 - accuracy: 0.7054 - val_loss: 0.6005 - val_accuracy: 0.6961\n",
      "Epoch 18/50\n",
      "54/54 [==============================] - 1s 13ms/step - loss: 0.5856 - accuracy: 0.7040 - val_loss: 0.5995 - val_accuracy: 0.6961\n",
      "Epoch 19/50\n",
      "54/54 [==============================] - 1s 13ms/step - loss: 0.5860 - accuracy: 0.7065 - val_loss: 0.5985 - val_accuracy: 0.6961\n",
      "Epoch 20/50\n",
      "54/54 [==============================] - 1s 13ms/step - loss: 0.5856 - accuracy: 0.7098 - val_loss: 0.5978 - val_accuracy: 0.6961\n",
      "Epoch 21/50\n",
      "54/54 [==============================] - 1s 13ms/step - loss: 0.5868 - accuracy: 0.7043 - val_loss: 0.5970 - val_accuracy: 0.6961\n",
      "Epoch 22/50\n",
      "54/54 [==============================] - 1s 13ms/step - loss: 0.5791 - accuracy: 0.7083 - val_loss: 0.5967 - val_accuracy: 0.6961\n",
      "Epoch 23/50\n",
      "54/54 [==============================] - 1s 13ms/step - loss: 0.5763 - accuracy: 0.7098 - val_loss: 0.5952 - val_accuracy: 0.6961\n",
      "Epoch 24/50\n",
      "54/54 [==============================] - 1s 13ms/step - loss: 0.5725 - accuracy: 0.7098 - val_loss: 0.5942 - val_accuracy: 0.6961\n",
      "Epoch 25/50\n",
      "54/54 [==============================] - 1s 13ms/step - loss: 0.5737 - accuracy: 0.7112 - val_loss: 0.5931 - val_accuracy: 0.6961\n",
      "Epoch 26/50\n",
      "54/54 [==============================] - 1s 13ms/step - loss: 0.5712 - accuracy: 0.7106 - val_loss: 0.5923 - val_accuracy: 0.6961\n",
      "Epoch 27/50\n",
      "54/54 [==============================] - 1s 13ms/step - loss: 0.5658 - accuracy: 0.7159 - val_loss: 0.5912 - val_accuracy: 0.6961\n",
      "Epoch 28/50\n",
      "54/54 [==============================] - 1s 13ms/step - loss: 0.5580 - accuracy: 0.7199 - val_loss: 0.5900 - val_accuracy: 0.6961\n",
      "Epoch 29/50\n",
      "54/54 [==============================] - 1s 13ms/step - loss: 0.5643 - accuracy: 0.7179 - val_loss: 0.5888 - val_accuracy: 0.6969\n",
      "Epoch 30/50\n",
      "54/54 [==============================] - 1s 13ms/step - loss: 0.5686 - accuracy: 0.7192 - val_loss: 0.5893 - val_accuracy: 0.7016\n",
      "Epoch 31/50\n",
      "54/54 [==============================] - 1s 13ms/step - loss: 0.5540 - accuracy: 0.7234 - val_loss: 0.5864 - val_accuracy: 0.7000\n",
      "Epoch 32/50\n",
      "54/54 [==============================] - 1s 13ms/step - loss: 0.5589 - accuracy: 0.7250 - val_loss: 0.5902 - val_accuracy: 0.7016\n",
      "Epoch 33/50\n",
      "54/54 [==============================] - 1s 13ms/step - loss: 0.5476 - accuracy: 0.7222 - val_loss: 0.5849 - val_accuracy: 0.7008\n",
      "Epoch 34/50\n",
      "54/54 [==============================] - 1s 13ms/step - loss: 0.5407 - accuracy: 0.7263 - val_loss: 0.5837 - val_accuracy: 0.7016\n",
      "Epoch 35/50\n",
      "54/54 [==============================] - 1s 13ms/step - loss: 0.5406 - accuracy: 0.7337 - val_loss: 0.5829 - val_accuracy: 0.7016\n",
      "Epoch 36/50\n",
      "54/54 [==============================] - 1s 13ms/step - loss: 0.5457 - accuracy: 0.7348 - val_loss: 0.5817 - val_accuracy: 0.7016\n",
      "Epoch 37/50\n",
      "54/54 [==============================] - 1s 13ms/step - loss: 0.5317 - accuracy: 0.7391 - val_loss: 0.5811 - val_accuracy: 0.7008\n",
      "Epoch 38/50\n",
      "54/54 [==============================] - 1s 13ms/step - loss: 0.5348 - accuracy: 0.7374 - val_loss: 0.5814 - val_accuracy: 0.7023\n",
      "Epoch 39/50\n",
      "54/54 [==============================] - 1s 13ms/step - loss: 0.5219 - accuracy: 0.7365 - val_loss: 0.5838 - val_accuracy: 0.7141\n",
      "Epoch 40/50\n",
      "54/54 [==============================] - 1s 13ms/step - loss: 0.5322 - accuracy: 0.7455 - val_loss: 0.5839 - val_accuracy: 0.7125\n",
      "Epoch 41/50\n",
      "54/54 [==============================] - 1s 13ms/step - loss: 0.5082 - accuracy: 0.7499 - val_loss: 0.5783 - val_accuracy: 0.7109\n",
      "Epoch 42/50\n",
      "54/54 [==============================] - 1s 13ms/step - loss: 0.5178 - accuracy: 0.7539 - val_loss: 0.5872 - val_accuracy: 0.7102\n",
      "Epoch 43/50\n",
      "54/54 [==============================] - 1s 13ms/step - loss: 0.5077 - accuracy: 0.7578 - val_loss: 0.5871 - val_accuracy: 0.7148\n",
      "Epoch 44/50\n",
      "54/54 [==============================] - 1s 12ms/step - loss: 0.5171 - accuracy: 0.7533 - val_loss: 0.5855 - val_accuracy: 0.7109\n",
      "Epoch 45/50\n",
      "54/54 [==============================] - 1s 13ms/step - loss: 0.4946 - accuracy: 0.7591 - val_loss: 0.5866 - val_accuracy: 0.7156\n",
      "Epoch 46/50\n",
      "54/54 [==============================] - 1s 13ms/step - loss: 0.5029 - accuracy: 0.7633 - val_loss: 0.5868 - val_accuracy: 0.7078\n",
      "Epoch 47/50\n",
      "54/54 [==============================] - 1s 13ms/step - loss: 0.4858 - accuracy: 0.7653 - val_loss: 0.5934 - val_accuracy: 0.7117\n",
      "Epoch 48/50\n",
      "54/54 [==============================] - 1s 13ms/step - loss: 0.4813 - accuracy: 0.7734 - val_loss: 0.5925 - val_accuracy: 0.7164\n",
      "Epoch 49/50\n",
      "54/54 [==============================] - 1s 13ms/step - loss: 0.4876 - accuracy: 0.7776 - val_loss: 0.5848 - val_accuracy: 0.7188\n",
      "Epoch 50/50\n",
      "54/54 [==============================] - 1s 13ms/step - loss: 0.4820 - accuracy: 0.7782 - val_loss: 0.5838 - val_accuracy: 0.7188\n"
     ]
    }
   ],
   "source": [
    "\n",
    "model = Net()\n",
    "epochs = 50\n",
    "model.compile(optimizer=tf.keras.optimizers.Adam(1e-4),\n",
    "             loss=tf.losses.BinaryCrossentropy(),\n",
    "             metrics=['accuracy'])\n",
    "history=model.fit(ds_train, epochs=epochs, \n",
    "          validation_data=ds_test, validation_steps=10)\n"
   ]
  },
  {
   "cell_type": "markdown",
   "id": "e543b011",
   "metadata": {},
   "source": [
    "# 评估模型"
   ]
  },
  {
   "cell_type": "markdown",
   "id": "f730009f",
   "metadata": {},
   "source": [
    "由于这里我们只将数据拆成两份，所以其实这里的验证集与测试集混着用了"
   ]
  },
  {
   "cell_type": "code",
   "execution_count": 20,
   "id": "e2462ea8",
   "metadata": {},
   "outputs": [
    {
     "name": "stdout",
     "output_type": "stream",
     "text": [
      "30/30 [==============================] - 0s 7ms/step - loss: 0.6038 - accuracy: 0.7109\n",
      "Test Loss: 0.603756844997406\n",
      "Test Accuracy: 0.7109375\n"
     ]
    }
   ],
   "source": [
    "test_loss, test_acc = model.evaluate(ds_test)\n",
    "\n",
    "print('Test Loss:', test_loss)\n",
    "print('Test Accuracy:', test_acc)"
   ]
  },
  {
   "cell_type": "markdown",
   "id": "3cd53fd8",
   "metadata": {},
   "source": [
    "# 将结果用图表示出来"
   ]
  },
  {
   "cell_type": "code",
   "execution_count": 21,
   "id": "9e23d963",
   "metadata": {},
   "outputs": [],
   "source": [
    "import matplotlib.pyplot as plt\n",
    "def plot_graph(history, string):\n",
    "    plt.plot(history.history[string])\n",
    "    plt.plot(history.history['val_'+string])\n",
    "    plt.show()"
   ]
  },
  {
   "cell_type": "code",
   "execution_count": 22,
   "id": "b4e892b8",
   "metadata": {},
   "outputs": [
    {
     "data": {
      "image/png": "[encoded data removed]",
      "text/plain": [
       "<Figure size 432x288 with 1 Axes>"
      ]
     },
     "metadata": {
      "needs_background": "light"
     },
     "output_type": "display_data"
    }
   ],
   "source": [
    "plot_graph(history, 'accuracy')"
   ]
  },
  {
   "cell_type": "code",
   "execution_count": 23,
   "id": "be87fefb",
   "metadata": {},
   "outputs": [
    {
     "data": {
      "image/png": "[encoded data removed]",
      "text/plain": [
       "<Figure size 432x288 with 1 Axes>"
      ]
     },
     "metadata": {
      "needs_background": "light"
     },
     "output_type": "display_data"
    }
   ],
   "source": [
    "plot_graph(history, 'loss')"
   ]
  },
  {
   "cell_type": "code",
   "execution_count": null,
   "id": "b0c16f58",
   "metadata": {},
   "outputs": [],
   "source": []
  }
 ],
 "metadata": {
  "kernelspec": {
   "display_name": "Python 3 (ipykernel)",
   "language": "python",
   "name": "python3"
  },
  "language_info": {
   "codemirror_mode": {
    "name": "ipython",
    "version": 3
   },
   "file_extension": ".py",
   "mimetype": "text/x-python",
   "name": "python",
   "nbconvert_exporter": "python",
   "pygments_lexer": "ipython3",
   "version": "3.8.12"
  }
 },
 "nbformat": 4,
 "nbformat_minor": 5
}
